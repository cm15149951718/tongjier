{
 "cells": [
  {
   "cell_type": "code",
   "execution_count": 3,
   "metadata": {},
   "outputs": [
    {
     "name": "stdout",
     "output_type": "stream",
     "text": [
      "16\n",
      "16\n"
     ]
    }
   ],
   "source": [
    "class Rectangle(object):\n",
    "    def __init__(self,width,height):\n",
    "        self.a=width\n",
    "        self.b=height\n",
    "    def getArea(self):\n",
    "        Area = (self.a+self.b)*2\n",
    "        print(Area)\n",
    "    def getPerimeter(self):\n",
    "        Perimeter = self.a*self.b\n",
    "        print(Perimeter)\n",
    "rec=Rectangle(4,4)\n",
    "rec.getArea()\n",
    "rec.getPerimeter()"
   ]
  },
  {
   "cell_type": "code",
   "execution_count": 6,
   "metadata": {},
   "outputs": [
    {
     "name": "stdout",
     "output_type": "stream",
     "text": [
      "请输入取钱金额：\n",
      "输入3000\n",
      "您成功取出： 3000 元\n",
      "请输入存钱金额：\n",
      "输入4000\n",
      "您成功存入： 4000 元\n",
      "100 您账户余额为： 21000 利率为： 0.045 利息为 900.0\n"
     ]
    }
   ],
   "source": [
    "class Account(object):\n",
    "    def __init__(self):\n",
    "        self.lilv=0\n",
    "        self.ann=100\n",
    "        self.lixi=0\n",
    "    def shuju(self,id,ann):\n",
    "        self.id=id\n",
    "        self.ann=ann\n",
    "    def getMonthlyInterestRate(self,lilv):\n",
    "        self.lilv=lilv\n",
    "    def withdraw(self):\n",
    "        print(\"请输入取钱金额：\")\n",
    "        res = input(\"输入\")\n",
    "        self.ann = self.ann - int(res)\n",
    "        print(\"您成功取出：\",res,\"元\")\n",
    "    def deposit(self):\n",
    "        print(\"请输入存钱金额：\")\n",
    "        res1=input(\"输入\")\n",
    "        self.ann=self.ann+int(res1)\n",
    "        print(\"您成功存入：\",res1,\"元\")\n",
    "    def getMonthlyInterest(self):\n",
    "        q=self.ann*self.lilv\n",
    "        self.lixi=q\n",
    "    def dayin(self):\n",
    "        print(self.id,\"您账户余额为：\",self.ann,\"利率为：\",self.lilv,\"利息为\",self.lixi)\n",
    "        \n",
    "qwe = Account()\n",
    "qwe.shuju(100,20000)\n",
    "qwe.getMonthlyInterestRate(0.045)\n",
    "qwe.getMonthlyInterest()\n",
    "qwe.withdraw()\n",
    "qwe.deposit()\n",
    "qwe.dayin()\n"
   ]
  },
  {
   "cell_type": "code",
   "execution_count": 47,
   "metadata": {},
   "outputs": [
    {
     "name": "stdout",
     "output_type": "stream",
     "text": [
      "2 off 5 blue\n"
     ]
    }
   ],
   "source": [
    "class Fan(object):\n",
    "    def __init__(self,speed,on,radius,color):\n",
    "        self._speed = speed\n",
    "        self._on = on\n",
    "        self._radius = radius\n",
    "        self._color = color\n",
    "    @property\n",
    "    def caozuo(self):\n",
    "        return self._speed\n",
    "        return self._on\n",
    "        return self._radius\n",
    "        return self._color\n",
    "    @caozuo.setter\n",
    "    def caozuo(self,a):\n",
    "        (self._speed, self._on, self._radius, self._color) = a\n",
    "    def zhuangtai(self):\n",
    "        print(self._speed,self._on,self._radius,self._color)\n",
    "fan = Fan(3,\"on\",10,\"yellow\")\n",
    "fan.caozuo=(2,\"off\",5,\"blue\")\n",
    "fan.zhuangtai()\n",
    "        \n",
    "    "
   ]
  },
  {
   "cell_type": "code",
   "execution_count": null,
   "metadata": {},
   "outputs": [],
   "source": []
  },
  {
   "cell_type": "code",
   "execution_count": 39,
   "metadata": {},
   "outputs": [
    {
     "name": "stdout",
     "output_type": "stream",
     "text": [
      "2 4\n"
     ]
    }
   ],
   "source": [
    "class A(object): \n",
    "    def __init__(self, x, y): \n",
    "        self.x = x \n",
    "        self.y = y \n",
    "    @property \n",
    "    def a(self):\n",
    "        return self.x\n",
    "        return self.y\n",
    "    @a.setter \n",
    "    def a(self, z): \n",
    "        (self.x, self.y) = z\n",
    "    def dd(self):\n",
    "        print(self.x,self.y)\n",
    "        \n",
    "aa=A(2,3)\n",
    "aa.a=(2,4)\n",
    "aa.dd()\n"
   ]
  },
  {
   "cell_type": "code",
   "execution_count": 4,
   "metadata": {},
   "outputs": [
    {
     "name": "stdout",
     "output_type": "stream",
     "text": [
      "8\n",
      "1.959434878635765e-15\n"
     ]
    }
   ],
   "source": [
    "import math\n",
    "class RegularPolygon(object): \n",
    "    def __init__(self, n=3,side=1, x=0, y=0): \n",
    "        self.n = n\n",
    "        self.side = side\n",
    "        self.x = x \n",
    "        self.y = y \n",
    "    @property \n",
    "    def a(self):\n",
    "        return self.n\n",
    "        return self.side\n",
    "        return self.x\n",
    "        return self.y\n",
    "    @a.setter \n",
    "    def a(self, z): \n",
    "        (self.n,self.side,self.x, self.y) = z\n",
    "    def dd(self):\n",
    "        s = self.n*self.side\n",
    "        Area = (self.n*(s**2))/(4*math.tan(math.pi/self.n))\n",
    "        print(s)\n",
    "        print(Area)\n",
    "        \n",
    "aa=RegularPolygon()\n",
    "aa.a=(2,4,0,0)\n",
    "aa.dd()"
   ]
  },
  {
   "cell_type": "code",
   "execution_count": 13,
   "metadata": {},
   "outputs": [
    {
     "name": "stdout",
     "output_type": "stream",
     "text": [
      "方程无解\n",
      "方程无解\n",
      "方程无解\n"
     ]
    }
   ],
   "source": [
    "class LinearEquation(object):\n",
    "    def __init__(self,a,b,c,d,e,f):\n",
    "        self.a=a\n",
    "        self.b=b\n",
    "        self.c=c\n",
    "        self.d=d\n",
    "        self.e=e\n",
    "        self.f=f\n",
    "        self.x=0\n",
    "        self.y=0\n",
    "        self.z=0\n",
    "    def isSolvable(self):\n",
    "        z=self.a*self.d-self.b*self.c\n",
    "        if z !=0:\n",
    "            self.z=True\n",
    "        else:\n",
    "            print(\"方程无解\")\n",
    "    def get(self):\n",
    "        self.x=(self.e*self.d-self.b*self.f)/(self.a*self.d-self.b*self.c)\n",
    "        self.y=(self.a*self.f-self.e*self.c)/(self.a*self.d-self.b*self.c)\n",
    "    def getX(self):\n",
    "        self.isSolvable()\n",
    "        if self.z == True:\n",
    "            self.get()\n",
    "            print(self.x)\n",
    "        else:\n",
    "            pass\n",
    "    def getY(self):\n",
    "        self.isSolvable()\n",
    "        if self.z == True:\n",
    "            self.get()\n",
    "            print(self.y)\n",
    "        else:\n",
    "            pass\n",
    "        \n",
    "qwe=LinearEquation(6,6,6,6,6,6)\n",
    "qwe.isSolvable()\n",
    "qwe.getX()\n",
    "qwe.getY()"
   ]
  },
  {
   "cell_type": "code",
   "execution_count": 16,
   "metadata": {},
   "outputs": [
    {
     "name": "stdout",
     "output_type": "stream",
     "text": [
      "(23, 23)\n"
     ]
    }
   ],
   "source": [
    "class Xianduan(object):\n",
    "    def __init__(self,a=(0,0),b=(0,0)，c=(0,0),d=(0,0)):\n",
    "        self.a = a\n",
    "        self.b = b\n",
    "        self.c = c\n",
    "        self.d = d\n",
    "    def dian(self):\n",
    "        x= self.a[0] + self.b[0]\n",
    "        y= self.a[1] + self.b[1]\n",
    "        print((x,y))\n",
    "\n",
    "xianduan = Xianduan((12,12),(11,11))\n",
    "xianduan.dian()"
   ]
  },
  {
   "cell_type": "code",
   "execution_count": 21,
   "metadata": {},
   "outputs": [
    {
     "name": "stdout",
     "output_type": "stream",
     "text": [
      "[0, 0, 0]\n"
     ]
    }
   ],
   "source": [
    "a=[0]\n",
    "b=[0]\n",
    "c=[0]\n",
    "print(a+b+c)"
   ]
  },
  {
   "cell_type": "code",
   "execution_count": null,
   "metadata": {},
   "outputs": [],
   "source": [
    "class LinearEquation(object):\n",
    "    def __init__(self,a,b,c,d,e,f):\n",
    "        self.a=a\n",
    "        self.b=b\n",
    "        self.c=c\n",
    "        self.d=d\n",
    "        self.e=e\n",
    "        self.f=f\n",
    "        self.x=0\n",
    "        self.y=0\n",
    "        self.z=0\n",
    "    def isSolvable(self):\n",
    "        z=self.a*self.d-self.b*self.c\n",
    "        if z !=0:\n",
    "            self.z=True\n",
    "        else:\n",
    "            print(\"方程无解\")\n",
    "    def get(self):\n",
    "        self.x=(self.e*self.d-self.b*self.f)/(self.a*self.d-self.b*self.c)\n",
    "        self.y=(self.a*self.f-self.e*self.c)/(self.a*self.d-self.b*self.c)\n",
    "    def getX(self):\n",
    "        self.isSolvable()\n",
    "        if self.z == True:\n",
    "            self.get()\n",
    "            print(self.x)\n",
    "        else:\n",
    "            pass\n",
    "    def getY(self):\n",
    "        self.isSolvable()\n",
    "        if self.z == True:\n",
    "            self.get()\n",
    "            print(self.y)\n",
    "        else:\n",
    "            pass\n",
    "        \n",
    "qwe=LinearEquation(6,6,6,6,6,6)\n",
    "qwe.isSolvable()\n",
    "qwe.getX()\n",
    "qwe.getY()"
   ]
  }
 ],
 "metadata": {
  "kernelspec": {
   "display_name": "Python 3",
   "language": "python",
   "name": "python3"
  },
  "language_info": {
   "codemirror_mode": {
    "name": "ipython",
    "version": 3
   },
   "file_extension": ".py",
   "mimetype": "text/x-python",
   "name": "python",
   "nbconvert_exporter": "python",
   "pygments_lexer": "ipython3",
   "version": "3.6.4"
  }
 },
 "nbformat": 4,
 "nbformat_minor": 2
}
