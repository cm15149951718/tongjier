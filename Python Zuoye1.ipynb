{
 "cells": [
  {
   "cell_type": "code",
   "execution_count": 1,
   "metadata": {
    "collapsed": true
   },
   "outputs": [
    {
     "name": "stdout",
     "output_type": "stream",
     "text": [
      "    1     5    12    22    35    51    70    92   117   145 \n",
      "  176   210   247   287   330   376   425   477   532   590 \n",
      "  651   715   782   852   925  1001  1080  1162  1247  1335 \n",
      " 1426  1520  1617  1717  1820  1926  2035  2147  2262  2380 \n",
      " 2501  2625  2752  2882  3015  3151  3290  3432  3577  3725 \n",
      " 3876  4030  4187  4347  4510  4676  4845  5017  5192  5370 \n",
      " 5551  5735  5922  6112  6305  6501  6700  6902  7107  7315 \n",
      " 7526  7740  7957  8177  8400  8626  8855  9087  9322  9560 \n",
      " 9801 10045 10292 10542 10795 11051 11310 11572 11837 12105 \n",
      "12376 12650 12927 13207 13490 13776 14065 14357 14652 14950 \n"
     ]
    }
   ],
   "source": [
    "def getPentagonalNumber():\n",
    "    for n in range(1,101):\n",
    "        y=n*(3*n-1)/2\n",
    "        print(\"%5d\"%y,end=' ')\n",
    "        if(n % 10 == 0):\n",
    "             print(\"\")\n",
    "getPentagonalNumber()"
   ]
  },
  {
   "cell_type": "code",
   "execution_count": 7,
   "metadata": {
    "collapsed": true
   },
   "outputs": [
    {
     "name": "stdout",
     "output_type": "stream",
     "text": [
      "请输入任意正整数:123456\n",
      "21\n"
     ]
    }
   ],
   "source": [
    "def sunDigits():\n",
    "    x=input('请输入任意正整数:')\n",
    "    x=int(x)\n",
    "    y=0\n",
    "    z=0\n",
    "    for i in range(0,x):\n",
    "        a=x%10\n",
    "        z=z+a\n",
    "        x=x//10\n",
    "        if x>=10:\n",
    "            y=x\n",
    "    print(z)\n",
    "sunDigits()\n",
    "\n",
    "    "
   ]
  },
  {
   "cell_type": "code",
   "execution_count": 20,
   "metadata": {
    "collapsed": true
   },
   "outputs": [
    {
     "name": "stdout",
     "output_type": "stream",
     "text": [
      "15\n"
     ]
    }
   ],
   "source": [
    "def zijia(n):\n",
    "    str_ = str(n)\n",
    "    int_ = 0\n",
    "    for i in str_:\n",
    "        int_ += int(i)\n",
    "    print(int_)\n",
    "zijia(456)"
   ]
  },
  {
   "cell_type": "code",
   "execution_count": 6,
   "metadata": {
    "collapsed": true
   },
   "outputs": [
    {
     "name": "stdout",
     "output_type": "stream",
     "text": [
      "请输入任意正整数:123456\n",
      "21\n"
     ]
    }
   ],
   "source": [
    "    x=input('请输入任意正整数:')\n",
    "    x=int(x)\n",
    "    y=0\n",
    "    z=0\n",
    "    for i in range(0,x):\n",
    "        a=x%10\n",
    "        z=z+a\n",
    "        x=x//10\n",
    "        if x>=10:\n",
    "            y=x\n",
    "    print(z)"
   ]
  },
  {
   "cell_type": "code",
   "execution_count": 41,
   "metadata": {
    "collapsed": true
   },
   "outputs": [
    {
     "data": {
      "text/plain": [
       "(20, 40, 100)"
      ]
     },
     "execution_count": 41,
     "metadata": {},
     "output_type": "execute_result"
    }
   ],
   "source": [
    "def Paixu(a,b,c):\n",
    "    if a>b:\n",
    "        a,b=b,a\n",
    "    if b>c:\n",
    "        b,c=c,b\n",
    "    if a>b:\n",
    "        a,b=b,a\n",
    "    return a,b,c \n",
    "Paixu(100,20,40)"
   ]
  },
  {
   "cell_type": "code",
   "execution_count": 42,
   "metadata": {
    "collapsed": true
   },
   "outputs": [
    {
     "name": "stdout",
     "output_type": "stream",
     "text": [
      "1322.974\n"
     ]
    }
   ],
   "source": [
    "d=1000+1196.2*0.09*3\n",
    "print(d)"
   ]
  },
  {
   "cell_type": "code",
   "execution_count": 50,
   "metadata": {
    "collapsed": true
   },
   "outputs": [
    {
     "name": "stdout",
     "output_type": "stream",
     "text": [
      "1 1090.0\n",
      "2 1180.0\n",
      "3 1270.0\n",
      "4 1360.0\n",
      "5 1450.0\n",
      "6 1540.0\n",
      "7 1630.0\n",
      "8 1720.0\n",
      "9 1810.0\n",
      "10 1900.0\n",
      "11 1990.0\n",
      "12 2080.0\n",
      "13 2170.0\n",
      "14 2260.0\n",
      "15 2350.0\n",
      "16 2440.0\n",
      "17 2530.0\n",
      "18 2620.0\n",
      "19 2710.0\n",
      "20 2800.0\n",
      "21 2890.0\n",
      "22 2980.0\n",
      "23 3070.0\n",
      "24 3160.0\n",
      "25 3250.0\n",
      "26 3340.0\n",
      "27 3430.0\n",
      "28 3520.0\n",
      "29 3610.0\n",
      "30 3700.0\n"
     ]
    }
   ],
   "source": [
    "def Shouyi(benjin,lilv,years):\n",
    "    a=benjin\n",
    "    b=lilv\n",
    "    i=years\n",
    "    d=0\n",
    "    for i in range(1,i+1):\n",
    "        d=1000+a*b/100*i\n",
    "        print(i,d)\n",
    "Shouyi(1000,9,30)"
   ]
  },
  {
   "cell_type": "code",
   "execution_count": 63,
   "metadata": {
    "collapsed": true
   },
   "outputs": [
    {
     "name": "stdout",
     "output_type": "stream",
     "text": [
      "1 2 3 4 5 6 7 8 9 : \n",
      "; < = > ? @ A B C D \n",
      "E F G H I J K L M N \n",
      "O P Q R S T U V W X \n",
      "Y "
     ]
    }
   ],
   "source": [
    "def asscll():\n",
    "    x=0\n",
    "    for i in range(ord('1'),ord('Z')):\n",
    "        x=x+1\n",
    "        print(chr(i),end=' ')\n",
    "        if x % 10 ==0:\n",
    "            print(\"\")\n",
    "    \n",
    "asscll()"
   ]
  },
  {
   "cell_type": "code",
   "execution_count": 67,
   "metadata": {
    "collapsed": true
   },
   "outputs": [
    {
     "name": "stdout",
     "output_type": "stream",
     "text": [
      "2010 365\n",
      "2011 365\n",
      "2012 366\n",
      "2013 365\n",
      "2014 365\n",
      "2015 365\n",
      "2016 366\n",
      "2017 365\n",
      "2018 365\n",
      "2019 365\n"
     ]
    }
   ],
   "source": [
    "def tianshu():\n",
    "    for i in range(2010,2020):\n",
    "        if i % 4==0 and i%100!=0:\n",
    "            print(i,366)\n",
    "        else:\n",
    "            print(i,365)\n",
    "tianshu()"
   ]
  },
  {
   "cell_type": "code",
   "execution_count": 71,
   "metadata": {},
   "outputs": [
    {
     "name": "stdout",
     "output_type": "stream",
     "text": [
      "1.4142135623730951\n"
     ]
    }
   ],
   "source": [
    "import math\n",
    "def juli(x1,y1,x2,y2):\n",
    "    a=(x1-x2)**2+(y1-y2)**2\n",
    "    b=math.sqrt(a)\n",
    "    print(b)\n",
    "juli(1,1,2,2)\n",
    "    "
   ]
  },
  {
   "cell_type": "code",
   "execution_count": null,
   "metadata": {},
   "outputs": [],
   "source": []
  },
  {
   "cell_type": "code",
   "execution_count": 22,
   "metadata": {
    "collapsed": true
   },
   "outputs": [
    {
     "ename": "TypeError",
     "evalue": "sushu() missing 1 required positional argument: 'self'",
     "output_type": "error",
     "traceback": [
      "\u001b[1;31m---------------------------------------------------------------------------\u001b[0m",
      "\u001b[1;31mTypeError\u001b[0m                                 Traceback (most recent call last)",
      "\u001b[1;32m<ipython-input-22-061bd9d0237a>\u001b[0m in \u001b[0;36m<module>\u001b[1;34m()\u001b[0m\n\u001b[0;32m     15\u001b[0m             \u001b[0mprint\u001b[0m\u001b[1;33m(\u001b[0m\u001b[0mi\u001b[0m\u001b[1;33m)\u001b[0m\u001b[1;33m\u001b[0m\u001b[0m\n\u001b[0;32m     16\u001b[0m \u001b[0mname\u001b[0m\u001b[1;33m=\u001b[0m\u001b[0mName\u001b[0m\u001b[1;33m\u001b[0m\u001b[0m\n\u001b[1;32m---> 17\u001b[1;33m \u001b[0mname\u001b[0m\u001b[1;33m.\u001b[0m\u001b[0msushu\u001b[0m\u001b[1;33m(\u001b[0m\u001b[1;33m)\u001b[0m\u001b[1;33m\u001b[0m\u001b[0m\n\u001b[0m\u001b[0;32m     18\u001b[0m \u001b[0mname\u001b[0m\u001b[1;33m.\u001b[0m\u001b[0mteshu\u001b[0m\u001b[1;33m(\u001b[0m\u001b[1;33m)\u001b[0m\u001b[1;33m\u001b[0m\u001b[0m\n\u001b[0;32m     19\u001b[0m \u001b[1;33m\u001b[0m\u001b[0m\n",
      "\u001b[1;31mTypeError\u001b[0m: sushu() missing 1 required positional argument: 'self'"
     ]
    }
   ],
   "source": [
    "class Name(object):\n",
    "    def __init__(self):\n",
    "        pass\n",
    "    def sushu(self) :\n",
    "        p=0\n",
    "        for i in range(2,32):\n",
    "            p=p+1\n",
    "            for j in range(2,i):\n",
    "                if i%j==0:\n",
    "                    break\n",
    "            if i%j!=0:\n",
    "                print(i)\n",
    "    def teshu(self) :\n",
    "        if i == 2**(p-1):\n",
    "            print(i)\n",
    "name=Name\n",
    "name.sushu()\n",
    "name.teshu()\n",
    "        "
   ]
  },
  {
   "cell_type": "code",
   "execution_count": 4,
   "metadata": {
    "collapsed": true
   },
   "outputs": [
    {
     "ename": "NameError",
     "evalue": "name 'j' is not defined",
     "output_type": "error",
     "traceback": [
      "\u001b[1;31m---------------------------------------------------------------------------\u001b[0m",
      "\u001b[1;31mNameError\u001b[0m                                 Traceback (most recent call last)",
      "\u001b[1;32m<ipython-input-4-e481b1829af4>\u001b[0m in \u001b[0;36m<module>\u001b[1;34m()\u001b[0m\n\u001b[0;32m      4\u001b[0m         \u001b[1;32mif\u001b[0m \u001b[0mi\u001b[0m\u001b[1;33m%\u001b[0m\u001b[0mj\u001b[0m\u001b[1;33m==\u001b[0m\u001b[1;36m0\u001b[0m\u001b[1;33m:\u001b[0m\u001b[1;33m\u001b[0m\u001b[0m\n\u001b[0;32m      5\u001b[0m             \u001b[1;32mbreak\u001b[0m\u001b[1;33m\u001b[0m\u001b[0m\n\u001b[1;32m----> 6\u001b[1;33m     \u001b[1;32mif\u001b[0m \u001b[0mi\u001b[0m\u001b[1;33m%\u001b[0m\u001b[0mj\u001b[0m\u001b[1;33m!=\u001b[0m\u001b[1;36m0\u001b[0m\u001b[1;33m:\u001b[0m\u001b[1;33m\u001b[0m\u001b[0m\n\u001b[0m\u001b[0;32m      7\u001b[0m         \u001b[0mprint\u001b[0m\u001b[1;33m(\u001b[0m\u001b[0mi\u001b[0m\u001b[1;33m)\u001b[0m\u001b[1;33m\u001b[0m\u001b[0m\n",
      "\u001b[1;31mNameError\u001b[0m: name 'j' is not defined"
     ]
    }
   ],
   "source": [
    "\n",
    "for i in range(2,32): \n",
    "    for j in range(2,i):\n",
    "        if i%j==0:\n",
    "            break\n",
    "    if i%j!=0:\n",
    "        print(i)\n"
   ]
  },
  {
   "cell_type": "code",
   "execution_count": 45,
   "metadata": {
    "collapsed": true
   },
   "outputs": [
    {
     "name": "stdout",
     "output_type": "stream",
     "text": [
      "[2, 3, 5, 7, 11, 13, 17, 19, 23, 29, 31]\n"
     ]
    }
   ],
   "source": [
    "a = []\n",
    "b = 0\n",
    "for i in range(2,32):\n",
    "    fg = 0\n",
    "    b = b+1\n",
    "    for j in range(2,i):\n",
    "        if (i % j ==0):\n",
    "            fg=1\n",
    "    if (fg== 0):\n",
    "        a.append(i)\n",
    "        if b==30:\n",
    "            print(a)\n",
    "\n",
    "\n"
   ]
  },
  {
   "cell_type": "code",
   "execution_count": null,
   "metadata": {},
   "outputs": [],
   "source": []
  },
  {
   "cell_type": "code",
   "execution_count": 30,
   "metadata": {},
   "outputs": [
    {
     "name": "stdout",
     "output_type": "stream",
     "text": [
      "您第一次点数为: 4\n",
      "您第二次点数为: 1\n",
      "您两次点数之和为： 5\n",
      "您第一次点数为: 2\n",
      "您第二次点数为: 5\n",
      "您两次点数之和为： 7\n",
      "你赢了！！！\n"
     ]
    }
   ],
   "source": [
    "import numpy as np\n",
    "def dianshu():\n",
    "    a1 = np.random.choice([1,2,3,4,5,6])\n",
    "    print(\"您第一次点数为:\",a1)\n",
    "    a2 = np.random.choice([1,2,3,4,5,6])\n",
    "    print(\"您第二次点数为:\",a2)\n",
    "    a = a1 + a2\n",
    "    print(\"您两次点数之和为：\",a)\n",
    "    return a\n",
    "a = dianshu()\n",
    "if a==2 or a==3 or a==12:\n",
    "    print(\"你输了！！！\")\n",
    "elif a==7 or a==11:\n",
    "    print(\"你赢了！！！\")\n",
    "else:\n",
    "    a3 = a\n",
    "    a = dianshu()\n",
    "    if a ==7 or a == res3:\n",
    "        print(\"你赢了！！！\")\n",
    "    else:\n",
    "        print(\"请开始下一局！\")"
   ]
  },
  {
   "cell_type": "code",
   "execution_count": 25,
   "metadata": {},
   "outputs": [
    {
     "name": "stdout",
     "output_type": "stream",
     "text": [
      "11111\n"
     ]
    }
   ],
   "source": [
    "a =11111\n",
    "print(a)"
   ]
  },
  {
   "cell_type": "code",
   "execution_count": null,
   "metadata": {},
   "outputs": [],
   "source": []
  }
 ],
 "metadata": {
  "kernelspec": {
   "display_name": "Python 3",
   "language": "python",
   "name": "python3"
  },
  "language_info": {
   "codemirror_mode": {
    "name": "ipython",
    "version": 3
   },
   "file_extension": ".py",
   "mimetype": "text/x-python",
   "name": "python",
   "nbconvert_exporter": "python",
   "pygments_lexer": "ipython3",
   "version": "3.6.4"
  }
 },
 "nbformat": 4,
 "nbformat_minor": 2
}
