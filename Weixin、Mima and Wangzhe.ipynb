{
 "cells": [
  {
   "cell_type": "code",
   "execution_count": 1,
   "metadata": {},
   "outputs": [
    {
     "name": "stdout",
     "output_type": "stream",
     "text": [
      "█\r"
     ]
    },
    {
     "name": "stderr",
     "output_type": "stream",
     "text": [
      "Getting uuid of QR code.\n",
      "Downloading QR code.\n",
      "Please scan the QR code to log in.\n",
      "Please press confirm on your phone.\n",
      "Loading the contact, this may take a little while.\n",
      "Login successfully as 成名\n",
      "LOG OUT!\n"
     ]
    }
   ],
   "source": [
    "from wxpy import *\n",
    "bot = Bot()\n",
    "my_friend = bot.friends().search('魏建忠')[0]\n",
    "@bot.register([my_friend, Group], TEXT)\n",
    "def auto_reply(msg):\n",
    "    return '0_0'.format(msg.text, msg.type)"
   ]
  },
  {
   "cell_type": "code",
   "execution_count": null,
   "metadata": {},
   "outputs": [],
   "source": [
    "import re\n",
    "def checklen(pwd):\n",
    "    return len(pwd)>=6\n",
    "def checkContainUpper(pwd):\n",
    "    pattern = re.compile('[A-Z]+')\n",
    "    match = pattern.findall(pwd)\n",
    "    if match:\n",
    "        return True\n",
    "    else:\n",
    "        return False\n",
    "def checkContainNum(pwd):\n",
    "    pattern = re.compile('[0-9]+')\n",
    "    match = pattern.findall(pwd)\n",
    "    if match:\n",
    "        return True\n",
    "    else:\n",
    "        return False\n",
    "def checkContainLower(pwd):\n",
    "    pattern = re.compile('[a-z]+')\n",
    "    match = pattern.findall(pwd)\n",
    "    if match:\n",
    "        return True\n",
    "    else:\n",
    "        return False\n",
    "def checkSymbol(pwd):\n",
    "    pattern = re.compile('([^a-z0-9A-Z])+')\n",
    "    match = pattern.findall(pwd)\n",
    "    if match:\n",
    "        return True\n",
    "    else:\n",
    "        return False\n",
    "def checkPassword(pwd):\n",
    "    lenOK=checklen(pwd)#判断密码长度是否合法\n",
    "    upperOK=checkContainUpper(pwd)#判断是否包含大写字母\n",
    "    lowerOK=checkContainLower(pwd) #判断是否包含小写字母   \n",
    "    numOK=checkContainNum(pwd)#判断是否包含数字\n",
    "    symbolOK=checkSymbol(pwd)#判断是否包含符号\n",
    "    print(lenOK)\n",
    "    print(upperOK)\n",
    "    print(lowerOK)\n",
    "    print(numOK)\n",
    "    print(symbolOK)\n",
    "    return (lenOK and upperOK and lowerOK and numOK and symbolOK)\n",
    "def main():\n",
    "    if checkPassword('Az.311111'):\n",
    "        print('检测通过')\n",
    "    else:\n",
    "        print('检测未通过')\n",
    "\n",
    "\n",
    "if __name__ == '__main__':\n",
    "    main()"
   ]
  },
  {
   "cell_type": "code",
   "execution_count": 1,
   "metadata": {},
   "outputs": [
    {
     "name": "stdout",
     "output_type": "stream",
     "text": [
      "请选择模式3\n",
      "3\n",
      "请选择英雄： 张飞 关羽 赵云\n",
      ">>242\n",
      "没有该英雄\n",
      "电脑人物选择\n",
      "赵云\n",
      "战力：3k  \n",
      "防御：7k\n",
      ">>2\n",
      "完成取消\n",
      "\n",
      "敌军还有五秒到达战场，请做好准备！！！！！！！！！！！！\n",
      " 全军出击！！！！！！！！！\n"
     ]
    }
   ],
   "source": [
    "import numpy as np\n",
    "import time\n",
    "class renji(object):\n",
    "    def __init__(self):\n",
    "        res =input(\"请选择模式\")\n",
    "        print(res)\n",
    "    def renwu(self):\n",
    "        print('请选择英雄：','张飞','关羽','赵云')\n",
    "        res1 = input('>>')\n",
    "        if res1==('张飞'):\n",
    "            print('战力：1k  \\n防御：6k')\n",
    "        elif res1==('关羽'):\n",
    "            print('战力：2k  \\n防御：3k')\n",
    "        elif res1==('赵云'):\n",
    "            print('战力：3k  \\n防御：7k')\n",
    "        else:\n",
    "            print(\"没有该英雄\")\n",
    "    def diannao(self):\n",
    "        print(\"电脑人物选择\")\n",
    "        res2 = np.random.choice(['张飞','关羽','赵云'])\n",
    "        if res2==('张飞'):\n",
    "            print('张飞\\n战力：1k  \\n防御：6k')\n",
    "        elif res2==('关羽'):\n",
    "            print('关羽\\n战力：2k  \\n防御：3k')\n",
    "        elif res2==('赵云'):\n",
    "            print('赵云\\n战力：3k  \\n防御：7k')\n",
    "        else:\n",
    "            print(\"没有该英雄\")\n",
    "    def jindutiao(self):\n",
    "        res3=input(\">>\")\n",
    "        if res3==('开始'):\n",
    "            print('正在进入游戏请稍后')\n",
    "            for i in range(1,101):\n",
    "                time.sleep(0.1)\n",
    "                print('%s%d%% \\r'%('>'*i,i),end=\"\",flush=True)\n",
    "        else:\n",
    "            print(\"完成取消\")\n",
    "    def youxi(self):\n",
    "        print('\\n敌军还有五秒到达战场，请做好准备！！！！！！！！！！！！\\n 全军出击！！！！！！！！！')\n",
    "\n",
    "        \n",
    "        \n",
    "a= renji()\n",
    "a.renwu()\n",
    "a.diannao()\n",
    "a.jindutiao()\n",
    "a.youxi()"
   ]
  },
  {
   "cell_type": "code",
   "execution_count": null,
   "metadata": {},
   "outputs": [],
   "source": []
  }
 ],
 "metadata": {
  "kernelspec": {
   "display_name": "Python 3",
   "language": "python",
   "name": "python3"
  },
  "language_info": {
   "codemirror_mode": {
    "name": "ipython",
    "version": 3
   },
   "file_extension": ".py",
   "mimetype": "text/x-python",
   "name": "python",
   "nbconvert_exporter": "python",
   "pygments_lexer": "ipython3",
   "version": "3.6.4"
  }
 },
 "nbformat": 4,
 "nbformat_minor": 2
}
