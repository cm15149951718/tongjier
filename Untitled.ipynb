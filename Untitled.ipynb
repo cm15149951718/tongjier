{
 "cells": [
  {
   "cell_type": "code",
   "execution_count": 1,
   "metadata": {},
   "outputs": [
    {
     "name": "stdout",
     "output_type": "stream",
     "text": [
      "hello world\n"
     ]
    }
   ],
   "source": [
    "print('hello world')"
   ]
  },
  {
   "cell_type": "code",
   "execution_count": 3,
   "metadata": {},
   "outputs": [],
   "source": [
    "class A:\n",
    "    def __init__(self,name):\n",
    "        self.a=name\n",
    "    def showA(self):\n",
    "        print(self.a)\n",
    "        \n",
    "class B(A):TT\n",
    "    def __init__(self):\n",
    "        A.__init__(self,name)\n",
    "    def showB(self):\n",
    "        print(self.a)('1', '3')\n"
   ]
  },
  {
   "cell_type": "code",
   "execution_count": 4,
   "metadata": {
    "scrolled": true
   },
   "outputs": [
    {
     "name": "stdout",
     "output_type": "stream",
     "text": [
      "('1', '1')\n",
      "('1', '2')\n",
      "('1', '3')\n",
      "('1', '4')\n",
      "('1', '5')\n",
      "('1', '6')\n",
      "('1', '7')\n",
      "('1', '8')\n",
      "('1', '9')\n",
      "('2', '1')\n",
      "('2', '2')\n",
      "('2', '3')\n",
      "('2', '4')\n",
      "('2', '5')\n",
      "('2', '6')\n",
      "('2', '7')\n",
      "('2', '8')\n",
      "('2', '9')\n",
      "('3', '1')\n",
      "('3', '2')\n",
      "('3', '3')\n",
      "('3', '4')\n",
      "('3', '5')\n",
      "('3', '6')\n",
      "('3', '7')\n",
      "('3', '8')\n",
      "('3', '9')\n",
      "('4', '1')\n",
      "('4', '2')\n",
      "('4', '3')\n",
      "('4', '4')\n",
      "('4', '5')\n",
      "('4', '6')\n",
      "('4', '7')\n",
      "('4', '8')\n",
      "('4', '9')\n",
      "('5', '1')\n",
      "('5', '2')\n",
      "('5', '3')\n",
      "('5', '4')\n",
      "('5', '5')\n",
      "('5', '6')\n",
      "('5', '7')\n",
      "('5', '8')\n",
      "('5', '9')\n",
      "('6', '1')\n",
      "('6', '2')\n",
      "('6', '3')\n",
      "('6', '4')\n",
      "('6', '5')\n",
      "('6', '6')\n",
      "('6', '7')\n",
      "('6', '8')\n",
      "('6', '9')\n",
      "('7', '1')\n",
      "('7', '2')\n",
      "('7', '3')\n",
      "('7', '4')\n",
      "('7', '5')\n",
      "('7', '6')\n",
      "('7', '7')\n",
      "('7', '8')\n",
      "('7', '9')\n",
      "('8', '1')\n",
      "('8', '2')\n",
      "('8', '3')\n",
      "('8', '4')\n",
      "('8', '5')\n",
      "('8', '6')\n",
      "('8', '7')\n",
      "('8', '8')\n",
      "('8', '9')\n",
      "('9', '1')\n",
      "('9', '2')\n",
      "('9', '3')\n",
      "('9', '4')\n",
      "('9', '5')\n",
      "('9', '6')\n",
      "('9', '7')\n",
      "('9', '8')\n",
      "('9', '9')\n"
     ]
    }
   ],
   "source": [
    "import itertools\n",
    "\n",
    "lala=(x for x in itertools.product('123456789',repeat=2))\n",
    "for i in lala:\n",
    "    print(i)"
   ]
  },
  {
   "cell_type": "code",
   "execution_count": null,
   "metadata": {},
   "outputs": [],
   "source": []
  }
 ],
 "metadata": {
  "kernelspec": {
   "display_name": "Python 3",
   "language": "python",
   "name": "python3"
  },
  "language_info": {
   "codemirror_mode": {
    "name": "ipython",
    "version": 3
   },
   "file_extension": ".py",
   "mimetype": "text/x-python",
   "name": "python",
   "nbconvert_exporter": "python",
   "pygments_lexer": "ipython3",
   "version": "3.6.4"
  }
 },
 "nbformat": 4,
 "nbformat_minor": 2
}
